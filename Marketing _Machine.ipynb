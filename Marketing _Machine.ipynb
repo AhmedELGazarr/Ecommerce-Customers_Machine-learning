{
 "cells": [
  {
   "cell_type": "markdown",
   "id": "eb253e73",
   "metadata": {},
   "source": [
    "# CASE STUDY ABOUT MARKTING \n"
   ]
  },
  {
   "cell_type": "markdown",
   "id": "6660a538",
   "metadata": {},
   "source": [
    "# IMPORTING LIABIRARIES..."
   ]
  },
  {
   "cell_type": "code",
   "execution_count": 3,
   "id": "efdfe55d",
   "metadata": {},
   "outputs": [],
   "source": [
    "import numpy as np\n",
    "import matplotlib.pyplot as plt\n",
    "%matplotlib inline\n",
    "import pandas as pd\n",
    "df= pd.read_csv(\"Ecommerce Customers.csv\")"
   ]
  },
  {
   "cell_type": "code",
   "execution_count": 6,
   "id": "2fb35a7c",
   "metadata": {},
   "outputs": [
    {
     "data": {
      "text/html": [
       "<div>\n",
       "<style scoped>\n",
       "    .dataframe tbody tr th:only-of-type {\n",
       "        vertical-align: middle;\n",
       "    }\n",
       "\n",
       "    .dataframe tbody tr th {\n",
       "        vertical-align: top;\n",
       "    }\n",
       "\n",
       "    .dataframe thead th {\n",
       "        text-align: right;\n",
       "    }\n",
       "</style>\n",
       "<table border=\"1\" class=\"dataframe\">\n",
       "  <thead>\n",
       "    <tr style=\"text-align: right;\">\n",
       "      <th></th>\n",
       "      <th>Email</th>\n",
       "      <th>Address</th>\n",
       "      <th>Avatar</th>\n",
       "      <th>Avg. Session Length</th>\n",
       "      <th>Time on App</th>\n",
       "      <th>Time on Website</th>\n",
       "      <th>Length of Membership</th>\n",
       "      <th>Yearly Amount Spent</th>\n",
       "    </tr>\n",
       "  </thead>\n",
       "  <tbody>\n",
       "    <tr>\n",
       "      <th>0</th>\n",
       "      <td>mstephenson@fernandez.com</td>\n",
       "      <td>835 Frank Tunnel\\nWrightmouth, MI 82180-9605</td>\n",
       "      <td>Violet</td>\n",
       "      <td>34.497268</td>\n",
       "      <td>12.655651</td>\n",
       "      <td>39.577668</td>\n",
       "      <td>4.082621</td>\n",
       "      <td>587.951054</td>\n",
       "    </tr>\n",
       "    <tr>\n",
       "      <th>1</th>\n",
       "      <td>hduke@hotmail.com</td>\n",
       "      <td>4547 Archer Common\\nDiazchester, CA 06566-8576</td>\n",
       "      <td>DarkGreen</td>\n",
       "      <td>31.926272</td>\n",
       "      <td>11.109461</td>\n",
       "      <td>37.268959</td>\n",
       "      <td>2.664034</td>\n",
       "      <td>392.204933</td>\n",
       "    </tr>\n",
       "    <tr>\n",
       "      <th>2</th>\n",
       "      <td>pallen@yahoo.com</td>\n",
       "      <td>24645 Valerie Unions Suite 582\\nCobbborough, D...</td>\n",
       "      <td>Bisque</td>\n",
       "      <td>33.000915</td>\n",
       "      <td>11.330278</td>\n",
       "      <td>37.110597</td>\n",
       "      <td>4.104543</td>\n",
       "      <td>487.547505</td>\n",
       "    </tr>\n",
       "    <tr>\n",
       "      <th>3</th>\n",
       "      <td>riverarebecca@gmail.com</td>\n",
       "      <td>1414 David Throughway\\nPort Jason, OH 22070-1220</td>\n",
       "      <td>SaddleBrown</td>\n",
       "      <td>34.305557</td>\n",
       "      <td>13.717514</td>\n",
       "      <td>36.721283</td>\n",
       "      <td>3.120179</td>\n",
       "      <td>581.852344</td>\n",
       "    </tr>\n",
       "    <tr>\n",
       "      <th>4</th>\n",
       "      <td>mstephens@davidson-herman.com</td>\n",
       "      <td>14023 Rodriguez Passage\\nPort Jacobville, PR 3...</td>\n",
       "      <td>MediumAquaMarine</td>\n",
       "      <td>33.330673</td>\n",
       "      <td>12.795189</td>\n",
       "      <td>37.536653</td>\n",
       "      <td>4.446308</td>\n",
       "      <td>599.406092</td>\n",
       "    </tr>\n",
       "    <tr>\n",
       "      <th>...</th>\n",
       "      <td>...</td>\n",
       "      <td>...</td>\n",
       "      <td>...</td>\n",
       "      <td>...</td>\n",
       "      <td>...</td>\n",
       "      <td>...</td>\n",
       "      <td>...</td>\n",
       "      <td>...</td>\n",
       "    </tr>\n",
       "    <tr>\n",
       "      <th>495</th>\n",
       "      <td>lewisjessica@craig-evans.com</td>\n",
       "      <td>4483 Jones Motorway Suite 872\\nLake Jamiefurt,...</td>\n",
       "      <td>Tan</td>\n",
       "      <td>33.237660</td>\n",
       "      <td>13.566160</td>\n",
       "      <td>36.417985</td>\n",
       "      <td>3.746573</td>\n",
       "      <td>573.847438</td>\n",
       "    </tr>\n",
       "    <tr>\n",
       "      <th>496</th>\n",
       "      <td>katrina56@gmail.com</td>\n",
       "      <td>172 Owen Divide Suite 497\\nWest Richard, CA 19320</td>\n",
       "      <td>PaleVioletRed</td>\n",
       "      <td>34.702529</td>\n",
       "      <td>11.695736</td>\n",
       "      <td>37.190268</td>\n",
       "      <td>3.576526</td>\n",
       "      <td>529.049004</td>\n",
       "    </tr>\n",
       "    <tr>\n",
       "      <th>497</th>\n",
       "      <td>dale88@hotmail.com</td>\n",
       "      <td>0787 Andrews Ranch Apt. 633\\nSouth Chadburgh, ...</td>\n",
       "      <td>Cornsilk</td>\n",
       "      <td>32.646777</td>\n",
       "      <td>11.499409</td>\n",
       "      <td>38.332576</td>\n",
       "      <td>4.958264</td>\n",
       "      <td>551.620145</td>\n",
       "    </tr>\n",
       "    <tr>\n",
       "      <th>498</th>\n",
       "      <td>cwilson@hotmail.com</td>\n",
       "      <td>680 Jennifer Lodge Apt. 808\\nBrendachester, TX...</td>\n",
       "      <td>Teal</td>\n",
       "      <td>33.322501</td>\n",
       "      <td>12.391423</td>\n",
       "      <td>36.840086</td>\n",
       "      <td>2.336485</td>\n",
       "      <td>456.469510</td>\n",
       "    </tr>\n",
       "    <tr>\n",
       "      <th>499</th>\n",
       "      <td>hannahwilson@davidson.com</td>\n",
       "      <td>49791 Rachel Heights Apt. 898\\nEast Drewboroug...</td>\n",
       "      <td>DarkMagenta</td>\n",
       "      <td>33.715981</td>\n",
       "      <td>12.418808</td>\n",
       "      <td>35.771016</td>\n",
       "      <td>2.735160</td>\n",
       "      <td>497.778642</td>\n",
       "    </tr>\n",
       "  </tbody>\n",
       "</table>\n",
       "<p>500 rows × 8 columns</p>\n",
       "</div>"
      ],
      "text/plain": [
       "                             Email  \\\n",
       "0        mstephenson@fernandez.com   \n",
       "1                hduke@hotmail.com   \n",
       "2                 pallen@yahoo.com   \n",
       "3          riverarebecca@gmail.com   \n",
       "4    mstephens@davidson-herman.com   \n",
       "..                             ...   \n",
       "495   lewisjessica@craig-evans.com   \n",
       "496            katrina56@gmail.com   \n",
       "497             dale88@hotmail.com   \n",
       "498            cwilson@hotmail.com   \n",
       "499      hannahwilson@davidson.com   \n",
       "\n",
       "                                               Address            Avatar  \\\n",
       "0         835 Frank Tunnel\\nWrightmouth, MI 82180-9605            Violet   \n",
       "1       4547 Archer Common\\nDiazchester, CA 06566-8576         DarkGreen   \n",
       "2    24645 Valerie Unions Suite 582\\nCobbborough, D...            Bisque   \n",
       "3     1414 David Throughway\\nPort Jason, OH 22070-1220       SaddleBrown   \n",
       "4    14023 Rodriguez Passage\\nPort Jacobville, PR 3...  MediumAquaMarine   \n",
       "..                                                 ...               ...   \n",
       "495  4483 Jones Motorway Suite 872\\nLake Jamiefurt,...               Tan   \n",
       "496  172 Owen Divide Suite 497\\nWest Richard, CA 19320     PaleVioletRed   \n",
       "497  0787 Andrews Ranch Apt. 633\\nSouth Chadburgh, ...          Cornsilk   \n",
       "498  680 Jennifer Lodge Apt. 808\\nBrendachester, TX...              Teal   \n",
       "499  49791 Rachel Heights Apt. 898\\nEast Drewboroug...       DarkMagenta   \n",
       "\n",
       "     Avg. Session Length  Time on App  Time on Website  Length of Membership  \\\n",
       "0              34.497268    12.655651        39.577668              4.082621   \n",
       "1              31.926272    11.109461        37.268959              2.664034   \n",
       "2              33.000915    11.330278        37.110597              4.104543   \n",
       "3              34.305557    13.717514        36.721283              3.120179   \n",
       "4              33.330673    12.795189        37.536653              4.446308   \n",
       "..                   ...          ...              ...                   ...   \n",
       "495            33.237660    13.566160        36.417985              3.746573   \n",
       "496            34.702529    11.695736        37.190268              3.576526   \n",
       "497            32.646777    11.499409        38.332576              4.958264   \n",
       "498            33.322501    12.391423        36.840086              2.336485   \n",
       "499            33.715981    12.418808        35.771016              2.735160   \n",
       "\n",
       "     Yearly Amount Spent  \n",
       "0             587.951054  \n",
       "1             392.204933  \n",
       "2             487.547505  \n",
       "3             581.852344  \n",
       "4             599.406092  \n",
       "..                   ...  \n",
       "495           573.847438  \n",
       "496           529.049004  \n",
       "497           551.620145  \n",
       "498           456.469510  \n",
       "499           497.778642  \n",
       "\n",
       "[500 rows x 8 columns]"
      ]
     },
     "execution_count": 6,
     "metadata": {},
     "output_type": "execute_result"
    }
   ],
   "source": [
    "df"
   ]
  },
  {
   "cell_type": "markdown",
   "id": "6b2019ae",
   "metadata": {},
   "source": [
    "# BREPROCESSING & CLEANING DATA.."
   ]
  },
  {
   "cell_type": "code",
   "execution_count": 8,
   "id": "56ab3e4c",
   "metadata": {},
   "outputs": [
    {
     "ename": "NameError",
     "evalue": "name 'sns' is not defined",
     "output_type": "error",
     "traceback": [
      "\u001b[1;31m---------------------------------------------------------------------------\u001b[0m",
      "\u001b[1;31mNameError\u001b[0m                                 Traceback (most recent call last)",
      "\u001b[1;32mf:\\Github\\Ecommerce Customers\\Marketing _Machine.ipynb Cell 6'\u001b[0m in \u001b[0;36m<cell line: 2>\u001b[1;34m()\u001b[0m\n\u001b[0;32m      <a href='vscode-notebook-cell:/f%3A/Github/Ecommerce%20Customers/Marketing%20_Machine.ipynb#ch0000005?line=0'>1</a>\u001b[0m \u001b[39m#to present the data as hall\u001b[39;00m\n\u001b[1;32m----> <a href='vscode-notebook-cell:/f%3A/Github/Ecommerce%20Customers/Marketing%20_Machine.ipynb#ch0000005?line=1'>2</a>\u001b[0m sns\u001b[39m.\u001b[39mpairplot(df)\n",
      "\u001b[1;31mNameError\u001b[0m: name 'sns' is not defined"
     ]
    }
   ],
   "source": [
    "#to present the data as hall\n",
    "sns.pairplot(df);"
   ]
  },
  {
   "cell_type": "code",
   "execution_count": null,
   "id": "be4b7790",
   "metadata": {
    "scrolled": true
   },
   "outputs": [
    {
     "data": {
      "image/png": "[encoded data removed]",
      "text/plain": [
       "<Figure size 432x432 with 3 Axes>"
      ]
     },
     "metadata": {
      "needs_background": "light"
     },
     "output_type": "display_data"
    }
   ],
   "source": [
    "#to see the relation beetwen length and yearly\n",
    "sns.jointplot(x=\"Length of Membership\",y=\"Yearly Amount Spent\",data=df);"
   ]
  },
  {
   "cell_type": "code",
   "execution_count": null,
   "id": "00b523e3",
   "metadata": {},
   "outputs": [
    {
     "data": {
      "text/html": [
       "<div>\n",
       "<style scoped>\n",
       "    .dataframe tbody tr th:only-of-type {\n",
       "        vertical-align: middle;\n",
       "    }\n",
       "\n",
       "    .dataframe tbody tr th {\n",
       "        vertical-align: top;\n",
       "    }\n",
       "\n",
       "    .dataframe thead th {\n",
       "        text-align: right;\n",
       "    }\n",
       "</style>\n",
       "<table border=\"1\" class=\"dataframe\">\n",
       "  <thead>\n",
       "    <tr style=\"text-align: right;\">\n",
       "      <th></th>\n",
       "      <th>Avg. Session Length</th>\n",
       "      <th>Time on App</th>\n",
       "      <th>Time on Website</th>\n",
       "      <th>Length of Membership</th>\n",
       "      <th>Yearly Amount Spent</th>\n",
       "    </tr>\n",
       "  </thead>\n",
       "  <tbody>\n",
       "    <tr>\n",
       "      <th>Avg. Session Length</th>\n",
       "      <td>1.00</td>\n",
       "      <td>-0.03</td>\n",
       "      <td>-0.03</td>\n",
       "      <td>0.06</td>\n",
       "      <td>0.36</td>\n",
       "    </tr>\n",
       "    <tr>\n",
       "      <th>Time on App</th>\n",
       "      <td>-0.03</td>\n",
       "      <td>1.00</td>\n",
       "      <td>0.08</td>\n",
       "      <td>0.03</td>\n",
       "      <td>0.50</td>\n",
       "    </tr>\n",
       "    <tr>\n",
       "      <th>Time on Website</th>\n",
       "      <td>-0.03</td>\n",
       "      <td>0.08</td>\n",
       "      <td>1.00</td>\n",
       "      <td>-0.05</td>\n",
       "      <td>-0.00</td>\n",
       "    </tr>\n",
       "    <tr>\n",
       "      <th>Length of Membership</th>\n",
       "      <td>0.06</td>\n",
       "      <td>0.03</td>\n",
       "      <td>-0.05</td>\n",
       "      <td>1.00</td>\n",
       "      <td>0.81</td>\n",
       "    </tr>\n",
       "    <tr>\n",
       "      <th>Yearly Amount Spent</th>\n",
       "      <td>0.36</td>\n",
       "      <td>0.50</td>\n",
       "      <td>-0.00</td>\n",
       "      <td>0.81</td>\n",
       "      <td>1.00</td>\n",
       "    </tr>\n",
       "  </tbody>\n",
       "</table>\n",
       "</div>"
      ],
      "text/plain": [
       "                      Avg. Session Length  Time on App  Time on Website  \\\n",
       "Avg. Session Length                  1.00        -0.03            -0.03   \n",
       "Time on App                         -0.03         1.00             0.08   \n",
       "Time on Website                     -0.03         0.08             1.00   \n",
       "Length of Membership                 0.06         0.03            -0.05   \n",
       "Yearly Amount Spent                  0.36         0.50            -0.00   \n",
       "\n",
       "                      Length of Membership  Yearly Amount Spent  \n",
       "Avg. Session Length                   0.06                 0.36  \n",
       "Time on App                           0.03                 0.50  \n",
       "Time on Website                      -0.05                -0.00  \n",
       "Length of Membership                  1.00                 0.81  \n",
       "Yearly Amount Spent                   0.81                 1.00  "
      ]
     },
     "execution_count": 37,
     "metadata": {},
     "output_type": "execute_result"
    }
   ],
   "source": [
    "df.corr().round(2)"
   ]
  },
  {
   "cell_type": "code",
   "execution_count": null,
   "id": "1def5388",
   "metadata": {},
   "outputs": [
    {
     "data": {
      "image/png": "[encoded data removed]",
      "text/plain": [
       "<Figure size 432x288 with 2 Axes>"
      ]
     },
     "metadata": {
      "needs_background": "light"
     },
     "output_type": "display_data"
    }
   ],
   "source": [
    "# make a map for correlation\n",
    "sns.heatmap(df.corr(),annot=True);"
   ]
  },
  {
   "cell_type": "markdown",
   "id": "efd246fa",
   "metadata": {},
   "source": [
    "# data pre-processing"
   ]
  },
  {
   "cell_type": "code",
   "execution_count": null,
   "id": "de221e87",
   "metadata": {},
   "outputs": [
    {
     "name": "stdout",
     "output_type": "stream",
     "text": [
      "<class 'pandas.core.frame.DataFrame'>\n",
      "RangeIndex: 500 entries, 0 to 499\n",
      "Data columns (total 8 columns):\n",
      " #   Column                Non-Null Count  Dtype  \n",
      "---  ------                --------------  -----  \n",
      " 0   Email                 500 non-null    object \n",
      " 1   Address               500 non-null    object \n",
      " 2   Avatar                500 non-null    object \n",
      " 3   Avg. Session Length   500 non-null    float64\n",
      " 4   Time on App           500 non-null    float64\n",
      " 5   Time on Website       500 non-null    float64\n",
      " 6   Length of Membership  500 non-null    float64\n",
      " 7   Yearly Amount Spent   500 non-null    float64\n",
      "dtypes: float64(5), object(3)\n",
      "memory usage: 31.4+ KB\n"
     ]
    }
   ],
   "source": [
    "df.info()"
   ]
  },
  {
   "cell_type": "code",
   "execution_count": null,
   "id": "625f281c",
   "metadata": {},
   "outputs": [
    {
     "data": {
      "text/html": [
       "<div>\n",
       "<style scoped>\n",
       "    .dataframe tbody tr th:only-of-type {\n",
       "        vertical-align: middle;\n",
       "    }\n",
       "\n",
       "    .dataframe tbody tr th {\n",
       "        vertical-align: top;\n",
       "    }\n",
       "\n",
       "    .dataframe thead th {\n",
       "        text-align: right;\n",
       "    }\n",
       "</style>\n",
       "<table border=\"1\" class=\"dataframe\">\n",
       "  <thead>\n",
       "    <tr style=\"text-align: right;\">\n",
       "      <th></th>\n",
       "      <th>Email</th>\n",
       "      <th>Address</th>\n",
       "      <th>Avatar</th>\n",
       "      <th>Avg. Session Length</th>\n",
       "      <th>Time on App</th>\n",
       "      <th>Time on Website</th>\n",
       "      <th>Length of Membership</th>\n",
       "      <th>Yearly_Amount_Spent</th>\n",
       "    </tr>\n",
       "  </thead>\n",
       "  <tbody>\n",
       "    <tr>\n",
       "      <th>0</th>\n",
       "      <td>mstephenson@fernandez.com</td>\n",
       "      <td>835 Frank Tunnel\\nWrightmouth, MI 82180-9605</td>\n",
       "      <td>Violet</td>\n",
       "      <td>34.497268</td>\n",
       "      <td>12.655651</td>\n",
       "      <td>39.577668</td>\n",
       "      <td>4.082621</td>\n",
       "      <td>587.951054</td>\n",
       "    </tr>\n",
       "    <tr>\n",
       "      <th>1</th>\n",
       "      <td>hduke@hotmail.com</td>\n",
       "      <td>4547 Archer Common\\nDiazchester, CA 06566-8576</td>\n",
       "      <td>DarkGreen</td>\n",
       "      <td>31.926272</td>\n",
       "      <td>11.109461</td>\n",
       "      <td>37.268959</td>\n",
       "      <td>2.664034</td>\n",
       "      <td>392.204933</td>\n",
       "    </tr>\n",
       "    <tr>\n",
       "      <th>2</th>\n",
       "      <td>pallen@yahoo.com</td>\n",
       "      <td>24645 Valerie Unions Suite 582\\nCobbborough, D...</td>\n",
       "      <td>Bisque</td>\n",
       "      <td>33.000915</td>\n",
       "      <td>11.330278</td>\n",
       "      <td>37.110597</td>\n",
       "      <td>4.104543</td>\n",
       "      <td>487.547505</td>\n",
       "    </tr>\n",
       "    <tr>\n",
       "      <th>3</th>\n",
       "      <td>riverarebecca@gmail.com</td>\n",
       "      <td>1414 David Throughway\\nPort Jason, OH 22070-1220</td>\n",
       "      <td>SaddleBrown</td>\n",
       "      <td>34.305557</td>\n",
       "      <td>13.717514</td>\n",
       "      <td>36.721283</td>\n",
       "      <td>3.120179</td>\n",
       "      <td>581.852344</td>\n",
       "    </tr>\n",
       "    <tr>\n",
       "      <th>4</th>\n",
       "      <td>mstephens@davidson-herman.com</td>\n",
       "      <td>14023 Rodriguez Passage\\nPort Jacobville, PR 3...</td>\n",
       "      <td>MediumAquaMarine</td>\n",
       "      <td>33.330673</td>\n",
       "      <td>12.795189</td>\n",
       "      <td>37.536653</td>\n",
       "      <td>4.446308</td>\n",
       "      <td>599.406092</td>\n",
       "    </tr>\n",
       "  </tbody>\n",
       "</table>\n",
       "</div>"
      ],
      "text/plain": [
       "                           Email  \\\n",
       "0      mstephenson@fernandez.com   \n",
       "1              hduke@hotmail.com   \n",
       "2               pallen@yahoo.com   \n",
       "3        riverarebecca@gmail.com   \n",
       "4  mstephens@davidson-herman.com   \n",
       "\n",
       "                                             Address            Avatar  \\\n",
       "0       835 Frank Tunnel\\nWrightmouth, MI 82180-9605            Violet   \n",
       "1     4547 Archer Common\\nDiazchester, CA 06566-8576         DarkGreen   \n",
       "2  24645 Valerie Unions Suite 582\\nCobbborough, D...            Bisque   \n",
       "3   1414 David Throughway\\nPort Jason, OH 22070-1220       SaddleBrown   \n",
       "4  14023 Rodriguez Passage\\nPort Jacobville, PR 3...  MediumAquaMarine   \n",
       "\n",
       "   Avg. Session Length  Time on App  Time on Website  Length of Membership  \\\n",
       "0            34.497268    12.655651        39.577668              4.082621   \n",
       "1            31.926272    11.109461        37.268959              2.664034   \n",
       "2            33.000915    11.330278        37.110597              4.104543   \n",
       "3            34.305557    13.717514        36.721283              3.120179   \n",
       "4            33.330673    12.795189        37.536653              4.446308   \n",
       "\n",
       "   Yearly_Amount_Spent  \n",
       "0           587.951054  \n",
       "1           392.204933  \n",
       "2           487.547505  \n",
       "3           581.852344  \n",
       "4           599.406092  "
      ]
     },
     "execution_count": 40,
     "metadata": {},
     "output_type": "execute_result"
    }
   ],
   "source": [
    "#rename the Yearly Amount Spent\n",
    "df.rename({\"Yearly Amount Spent\":\"Yearly_Amount_Spent\"},axis=1,inplace=True)\n",
    "df.head()"
   ]
  },
  {
   "cell_type": "markdown",
   "id": "04de00be",
   "metadata": {},
   "source": [
    "# EXPLORING DATASET..."
   ]
  },
  {
   "cell_type": "code",
   "execution_count": null,
   "id": "bbd228d0",
   "metadata": {},
   "outputs": [],
   "source": [
    "# whatis the most avatars are used?"
   ]
  },
  {
   "cell_type": "code",
   "execution_count": null,
   "id": "0f4432ec",
   "metadata": {},
   "outputs": [
    {
     "data": {
      "text/plain": [
       "SlateBlue      7\n",
       "Cyan           7\n",
       "CadetBlue      7\n",
       "GreenYellow    7\n",
       "Teal           7\n",
       "Name: Avatar, dtype: int64"
      ]
     },
     "execution_count": 44,
     "metadata": {},
     "output_type": "execute_result"
    }
   ],
   "source": [
    "df.Avatar.value_counts().head()"
   ]
  },
  {
   "cell_type": "markdown",
   "id": "81b8fdde",
   "metadata": {},
   "source": [
    "# i can ues this informantion for know my clint openion about adding avatar"
   ]
  },
  {
   "cell_type": "code",
   "execution_count": null,
   "id": "80d3358c",
   "metadata": {},
   "outputs": [
    {
     "data": {
      "text/plain": [
       "65    OliveDrab\n",
       "Name: Avatar, dtype: object"
      ]
     },
     "execution_count": 13,
     "metadata": {},
     "output_type": "execute_result"
    }
   ],
   "source": [
    "# to find the  avatar person who spent the maxmum\n",
    "df[df.Yearly_Amount_Spent==df.Yearly_Amount_Spent.max()][\"Avatar\"]"
   ]
  },
  {
   "cell_type": "code",
   "execution_count": null,
   "id": "8f36f625",
   "metadata": {},
   "outputs": [
    {
     "data": {
      "text/plain": [
       "Email                              wandaphillips@leonard.com\n",
       "Address                 8982 Burton Row\\nWilsonton, PW 88606\n",
       "Avatar                                             OliveDrab\n",
       "Avg. Session Length                                34.374258\n",
       "Time on App                                        15.126994\n",
       "Time on Website                                     38.83567\n",
       "Length of Membership                                5.377594\n",
       "Yearly_Amount_Spent                               765.518462\n",
       "dtype: object"
      ]
     },
     "execution_count": 14,
     "metadata": {},
     "output_type": "execute_result"
    }
   ],
   "source": [
    "#find all information about his \n",
    "df[df.Avatar==\"OliveDrab\"].max()"
   ]
  },
  {
   "cell_type": "code",
   "execution_count": null,
   "id": "1c3447c5",
   "metadata": {},
   "outputs": [
    {
     "data": {
      "text/plain": [
       "225    Navy\n",
       "Name: Avatar, dtype: object"
      ]
     },
     "execution_count": 15,
     "metadata": {},
     "output_type": "execute_result"
    }
   ],
   "source": [
    "#to find the  avatar person who spent the min\n",
    "df[df.Yearly_Amount_Spent==df.Yearly_Amount_Spent.min()][\"Avatar\"]"
   ]
  },
  {
   "cell_type": "code",
   "execution_count": null,
   "id": "94cba3d9",
   "metadata": {},
   "outputs": [
    {
     "data": {
      "text/plain": [
       "Email                               alexandra26@summers-davis.com\n",
       "Address                 0859 Audrey Isle\\nSouth Zachary, AS 09138\n",
       "Avatar                                                       Navy\n",
       "Avg. Session Length                                     32.302748\n",
       "Time on App                                              9.846125\n",
       "Time on Website                                         36.143908\n",
       "Length of Membership                                      0.78952\n",
       "Yearly_Amount_Spent                                    256.670582\n",
       "dtype: object"
      ]
     },
     "execution_count": 16,
     "metadata": {},
     "output_type": "execute_result"
    }
   ],
   "source": [
    "df[df.Avatar==\"Navy\"].min()"
   ]
  },
  {
   "cell_type": "markdown",
   "id": "8e99b544",
   "metadata": {},
   "source": [
    "# what is the highest 10 pays cusmoters emails?# "
   ]
  },
  {
   "cell_type": "code",
   "execution_count": null,
   "id": "abe6928e",
   "metadata": {},
   "outputs": [
    {
     "data": {
      "text/plain": [
       "Email                            Avatar    \n",
       "waltonkaren@gmail.com            Green         669.99\n",
       "alicia85@lee.com                 DimGray       684.16\n",
       "susanibarra@yahoo.com            Thistle       689.24\n",
       "randyrobinson@hotmail.com        DarkGray      689.79\n",
       "youngbarbara@yahoo.com           Wheat         700.92\n",
       "rhonda01@gmail.com               Orchid        708.94\n",
       "jeffrey54@mcdonald-williams.com  Gainsboro     712.40\n",
       "william82@gmail.com              SandyBrown    725.58\n",
       "asilva@yahoo.com                 Wheat         744.22\n",
       "kyang@diaz.org                   OliveDrab     765.52\n",
       "Name: Yearly_Amount_Spent, dtype: float64"
      ]
     },
     "execution_count": 17,
     "metadata": {},
     "output_type": "execute_result"
    }
   ],
   "source": [
    "df.groupby([\"Email\",\"Avatar\"])[\"Yearly_Amount_Spent\"].sum().sort_values().tail(10).round(2)"
   ]
  },
  {
   "cell_type": "code",
   "execution_count": null,
   "id": "c210689f",
   "metadata": {},
   "outputs": [
    {
     "data": {
      "text/plain": [
       "65    kyang@diaz.org\n",
       "Name: Email, dtype: object"
      ]
     },
     "execution_count": 18,
     "metadata": {},
     "output_type": "execute_result"
    }
   ],
   "source": [
    "#to find the maxmim person who pay\n",
    "df[df.Yearly_Amount_Spent==df.Yearly_Amount_Spent.max()][\"Email\"]"
   ]
  },
  {
   "cell_type": "markdown",
   "id": "e92ffcf2",
   "metadata": {},
   "source": [
    "# what is the lower 10 cusmoters emails?"
   ]
  },
  {
   "cell_type": "code",
   "execution_count": null,
   "id": "45360f13",
   "metadata": {},
   "outputs": [
    {
     "data": {
      "text/plain": [
       "Email                             Avatar         \n",
       "alexandra26@summers-davis.com     Navy               256.67\n",
       "brandon77@richardson.com          GhostWhite         266.09\n",
       "brian51@cook.info                 SaddleBrown        275.92\n",
       "morganorozco@hotmail.com          LightPink          282.47\n",
       "fischermonica@gmail.com           Navy               298.76\n",
       "dblair@gmail.com                  MediumSlateBlue    302.19\n",
       "jordandavid@gmail.com             Violet             304.14\n",
       "martinkristi@sanchez-coleman.com  Lime               308.53\n",
       "sharongraves@yahoo.com            Wheat              314.44\n",
       "douglasdunlap@boone-rose.com      Purple             319.93\n",
       "Name: Yearly_Amount_Spent, dtype: float64"
      ]
     },
     "execution_count": 19,
     "metadata": {},
     "output_type": "execute_result"
    }
   ],
   "source": [
    "df.groupby([\"Email\",\"Avatar\"])[\"Yearly_Amount_Spent\"].sum().sort_values().head(10).round(2)"
   ]
  },
  {
   "cell_type": "code",
   "execution_count": null,
   "id": "eb03bf48",
   "metadata": {},
   "outputs": [
    {
     "data": {
      "image/png": "[encoded data removed]",
      "text/plain": [
       "<Figure size 432x288 with 1 Axes>"
      ]
     },
     "metadata": {
      "needs_background": "light"
     },
     "output_type": "display_data"
    }
   ],
   "source": [
    "df.groupby([\"Email\"])[\"Yearly_Amount_Spent\"].sum().sort_values().tail(5).plot(kind=\"bar\");"
   ]
  },
  {
   "cell_type": "markdown",
   "id": "da211b5a",
   "metadata": {},
   "source": [
    "# BULDING MODELE BY USING "
   ]
  },
  {
   "cell_type": "code",
   "execution_count": null,
   "id": "617950e9",
   "metadata": {
    "scrolled": false
   },
   "outputs": [
    {
     "data": {
      "text/plain": [
       "0      587.951054\n",
       "1      392.204933\n",
       "2      487.547505\n",
       "3      581.852344\n",
       "4      599.406092\n",
       "          ...    \n",
       "495    573.847438\n",
       "496    529.049004\n",
       "497    551.620145\n",
       "498    456.469510\n",
       "499    497.778642\n",
       "Name: Yearly_Amount_Spent, Length: 500, dtype: float64"
      ]
     },
     "execution_count": 72,
     "metadata": {},
     "output_type": "execute_result"
    }
   ],
   "source": [
    "y=df.Yearly_Amount_Spent #my prediction\n",
    "y"
   ]
  },
  {
   "cell_type": "code",
   "execution_count": null,
   "id": "272c6eda",
   "metadata": {
    "scrolled": true
   },
   "outputs": [
    {
     "data": {
      "text/html": [
       "<div>\n",
       "<style scoped>\n",
       "    .dataframe tbody tr th:only-of-type {\n",
       "        vertical-align: middle;\n",
       "    }\n",
       "\n",
       "    .dataframe tbody tr th {\n",
       "        vertical-align: top;\n",
       "    }\n",
       "\n",
       "    .dataframe thead th {\n",
       "        text-align: right;\n",
       "    }\n",
       "</style>\n",
       "<table border=\"1\" class=\"dataframe\">\n",
       "  <thead>\n",
       "    <tr style=\"text-align: right;\">\n",
       "      <th></th>\n",
       "      <th>Avg. Session Length</th>\n",
       "      <th>Time on App</th>\n",
       "      <th>Time on Website</th>\n",
       "      <th>Length of Membership</th>\n",
       "    </tr>\n",
       "  </thead>\n",
       "  <tbody>\n",
       "    <tr>\n",
       "      <th>0</th>\n",
       "      <td>34.497268</td>\n",
       "      <td>12.655651</td>\n",
       "      <td>39.577668</td>\n",
       "      <td>4.082621</td>\n",
       "    </tr>\n",
       "    <tr>\n",
       "      <th>1</th>\n",
       "      <td>31.926272</td>\n",
       "      <td>11.109461</td>\n",
       "      <td>37.268959</td>\n",
       "      <td>2.664034</td>\n",
       "    </tr>\n",
       "    <tr>\n",
       "      <th>2</th>\n",
       "      <td>33.000915</td>\n",
       "      <td>11.330278</td>\n",
       "      <td>37.110597</td>\n",
       "      <td>4.104543</td>\n",
       "    </tr>\n",
       "    <tr>\n",
       "      <th>3</th>\n",
       "      <td>34.305557</td>\n",
       "      <td>13.717514</td>\n",
       "      <td>36.721283</td>\n",
       "      <td>3.120179</td>\n",
       "    </tr>\n",
       "    <tr>\n",
       "      <th>4</th>\n",
       "      <td>33.330673</td>\n",
       "      <td>12.795189</td>\n",
       "      <td>37.536653</td>\n",
       "      <td>4.446308</td>\n",
       "    </tr>\n",
       "  </tbody>\n",
       "</table>\n",
       "</div>"
      ],
      "text/plain": [
       "   Avg. Session Length  Time on App  Time on Website  Length of Membership\n",
       "0            34.497268    12.655651        39.577668              4.082621\n",
       "1            31.926272    11.109461        37.268959              2.664034\n",
       "2            33.000915    11.330278        37.110597              4.104543\n",
       "3            34.305557    13.717514        36.721283              3.120179\n",
       "4            33.330673    12.795189        37.536653              4.446308"
      ]
     },
     "execution_count": 115,
     "metadata": {},
     "output_type": "execute_result"
    }
   ],
   "source": [
    "X=df.drop(['Yearly_Amount_Spent',\"Address\",'Avatar','Email'],axis=1) #input\n",
    "X.head()"
   ]
  },
  {
   "cell_type": "code",
   "execution_count": null,
   "id": "023a7ed8",
   "metadata": {},
   "outputs": [],
   "source": [
    "from sklearn.model_selection import train_test_split"
   ]
  },
  {
   "cell_type": "code",
   "execution_count": null,
   "id": "4fb6096c",
   "metadata": {},
   "outputs": [],
   "source": [
    "X_train, X_test, y_train, y_test = train_test_split( X, y, test_size=0.2, random_state=42)"
   ]
  },
  {
   "cell_type": "code",
   "execution_count": null,
   "id": "7cb8b7f0",
   "metadata": {},
   "outputs": [],
   "source": [
    "from sklearn.linear_model import LinearRegression"
   ]
  },
  {
   "cell_type": "code",
   "execution_count": null,
   "id": "e42636b8",
   "metadata": {},
   "outputs": [],
   "source": [
    "model= LinearRegression()"
   ]
  },
  {
   "cell_type": "code",
   "execution_count": null,
   "id": "e802c04d",
   "metadata": {
    "scrolled": true
   },
   "outputs": [
    {
     "data": {
      "text/plain": [
       "LinearRegression()"
      ]
     },
     "execution_count": 85,
     "metadata": {},
     "output_type": "execute_result"
    }
   ],
   "source": [
    "model.fit(X_train,y_train)"
   ]
  },
  {
   "cell_type": "code",
   "execution_count": null,
   "id": "d3f5e998",
   "metadata": {},
   "outputs": [
    {
     "data": {
      "text/plain": [
       "array([25.5962591 , 38.78534598,  0.31038593, 61.89682859])"
      ]
     },
     "execution_count": 86,
     "metadata": {},
     "output_type": "execute_result"
    }
   ],
   "source": [
    "model.coef_"
   ]
  },
  {
   "cell_type": "code",
   "execution_count": null,
   "id": "e15ab0e2",
   "metadata": {},
   "outputs": [
    {
     "data": {
      "image/png": "[encoded data removed]",
      "text/plain": [
       "<Figure size 432x288 with 1 Axes>"
      ]
     },
     "metadata": {
      "needs_background": "light"
     },
     "output_type": "display_data"
    }
   ],
   "source": [
    "sns.regplot(x=\"Length of Membership\",y=\"Yearly_Amount_Spent\",data=df);"
   ]
  },
  {
   "cell_type": "code",
   "execution_count": null,
   "id": "2bd1b009",
   "metadata": {},
   "outputs": [
    {
     "data": {
      "image/png": "[encoded data removed]",
      "text/plain": [
       "<Figure size 432x288 with 1 Axes>"
      ]
     },
     "metadata": {
      "needs_background": "light"
     },
     "output_type": "display_data"
    }
   ],
   "source": [
    "sns.regplot(x=\"Avg. Session Length\",y=\"Yearly_Amount_Spent\",data=df);"
   ]
  },
  {
   "cell_type": "code",
   "execution_count": null,
   "id": "de3a4586",
   "metadata": {},
   "outputs": [
    {
     "data": {
      "image/png": "[encoded data removed]",
      "text/plain": [
       "<Figure size 432x288 with 1 Axes>"
      ]
     },
     "metadata": {
      "needs_background": "light"
     },
     "output_type": "display_data"
    }
   ],
   "source": [
    "sns.regplot(x=\"Time on App\",y=\"Yearly_Amount_Spent\",data=df);"
   ]
  },
  {
   "cell_type": "code",
   "execution_count": null,
   "id": "a50626b6",
   "metadata": {
    "scrolled": false
   },
   "outputs": [
    {
     "data": {
      "image/png": "[encoded data removed]",
      "text/plain": [
       "<Figure size 432x288 with 1 Axes>"
      ]
     },
     "metadata": {
      "needs_background": "light"
     },
     "output_type": "display_data"
    }
   ],
   "source": [
    "sns.regplot(x=\"Time on Website\",y=\"Yearly_Amount_Spent\",data=df);"
   ]
  },
  {
   "cell_type": "markdown",
   "id": "03c5961f",
   "metadata": {},
   "source": [
    "# y = m1 * x1+ m2 * x2 + m3 * x3 +m4 * x4 + b"
   ]
  },
  {
   "cell_type": "markdown",
   "id": "6eb4cb13",
   "metadata": {},
   "source": [
    "# Model Prediction"
   ]
  },
  {
   "cell_type": "code",
   "execution_count": null,
   "id": "102ddb1f",
   "metadata": {},
   "outputs": [
    {
     "data": {
      "text/plain": [
       "array([480.55111021])"
      ]
     },
     "execution_count": 97,
     "metadata": {},
     "output_type": "execute_result"
    }
   ],
   "source": [
    "#Find the prediction \n",
    "model.predict([[25,13,30,6]])"
   ]
  },
  {
   "cell_type": "code",
   "execution_count": null,
   "id": "c850f9c8",
   "metadata": {},
   "outputs": [
    {
     "data": {
      "text/plain": [
       "array([402.86230051, 542.53325708, 426.62011918, 501.91386363,\n",
       "       409.6666551 , 569.92155038, 531.50423529, 505.94309188,\n",
       "       408.10378607, 473.45942928, 441.18668812, 424.52463471,\n",
       "       424.83341694, 527.12061508, 430.87985533, 423.47062047,\n",
       "       575.8751518 , 484.6563331 , 457.77896975, 481.58742311,\n",
       "       501.56110993, 513.12815188, 507.49166899, 646.63377343,\n",
       "       449.70050586, 496.26290484, 556.18523776, 554.78684161,\n",
       "       399.1582784 , 325.16921284, 532.62732659, 477.73025415,\n",
       "       500.76491535, 305.09971374, 505.46811902, 483.52069444,\n",
       "       519.09464122, 437.75549737, 456.25005245, 470.63517876,\n",
       "       494.11207805, 444.65549239, 508.57079732, 500.88197484,\n",
       "       488.35128728, 535.34025218, 594.58301773, 513.59474408,\n",
       "       279.69877702, 432.71590835, 421.06976164, 480.94327496,\n",
       "       584.59481888, 608.61734059, 564.42312991, 494.47224504,\n",
       "       393.95593318, 456.11321352, 572.92228417, 499.27385693,\n",
       "       512.42973545, 391.56170305, 479.60705887, 481.05023229,\n",
       "       474.71926117, 546.37716047, 430.11675694, 601.91418143,\n",
       "       422.26508516, 493.11622454, 528.10614863, 581.06630842,\n",
       "       620.60774498, 512.47838603, 411.2147464 , 498.07095351,\n",
       "       461.44587681, 445.63453258, 447.63898998, 534.81030495,\n",
       "       598.85091016, 619.46554961, 494.43362232, 672.2442837 ,\n",
       "       532.15516513, 438.41740681, 514.80907179, 546.73893548,\n",
       "       331.73069072, 510.33949236, 536.21660556, 499.50696031,\n",
       "       375.86919792, 573.61952185, 479.18212334, 588.32862943,\n",
       "       485.18137257, 455.93070091, 398.67820721, 451.70869105])"
      ]
     },
     "execution_count": 101,
     "metadata": {},
     "output_type": "execute_result"
    }
   ],
   "source": [
    "y_pre=model.predict(X_test)\n",
    "y_pre"
   ]
  },
  {
   "cell_type": "code",
   "execution_count": null,
   "id": "cb5d638d",
   "metadata": {
    "scrolled": true
   },
   "outputs": [
    {
     "data": {
      "text/plain": [
       "array([401.03313522, 534.7771881 , 418.6027421 , 503.97837905,\n",
       "       410.06961106, 557.60826205, 538.94197453, 514.33655827,\n",
       "       408.62018783, 475.01540709, 427.1993849 , 434.02169975,\n",
       "       411.18696357, 533.51493526, 447.3690272 , 407.54216801,\n",
       "       573.84743772, 497.5866713 , 466.42119882, 467.80092437,\n",
       "       510.40138845, 510.50147847, 511.97985999, 640.5840619 ,\n",
       "       444.2859075 , 502.77107457, 551.62014548, 548.51852928,\n",
       "       390.10327297, 330.59444603, 535.32161009, 478.60091594,\n",
       "       499.14015245, 298.76200786, 487.54750487, 498.63559849,\n",
       "       512.16586639, 444.96655165, 468.6684656 , 483.15972078,\n",
       "       474.53232944, 439.07476674, 515.50247966, 485.92313052,\n",
       "       491.07322368, 544.77986372, 587.95105397, 522.33740461,\n",
       "       275.91842065, 436.51560573, 418.1500811 , 493.71919298,\n",
       "       573.30622226, 608.27181662, 545.94549214, 483.67330802,\n",
       "       424.18549429, 452.31567548, 568.71757593, 488.78606109,\n",
       "       510.66179222, 376.49684072, 473.36049557, 479.24741678,\n",
       "       475.75906779, 537.84619527, 436.72055586, 593.91500297,\n",
       "       421.32663126, 503.17508519, 532.12744911, 592.6884532 ,\n",
       "       616.66028602, 503.21739312, 404.82452887, 494.68715581,\n",
       "       479.17285149, 451.57568516, 438.30370785, 543.13262629,\n",
       "       595.80381888, 596.43017262, 487.55545806, 666.12559173,\n",
       "       542.41247673, 449.07031944, 517.16513559, 532.72480546,\n",
       "       319.9288698 , 530.36246889, 547.19074935, 469.38314617,\n",
       "       384.32605714, 559.19904795, 475.0716299 , 593.15640148,\n",
       "       487.37930602, 478.71935687, 392.99225591, 461.7807422 ])"
      ]
     },
     "execution_count": 102,
     "metadata": {},
     "output_type": "execute_result"
    }
   ],
   "source": [
    "y_test.values"
   ]
  },
  {
   "cell_type": "markdown",
   "id": "0e8bc4a1",
   "metadata": {},
   "source": [
    "# Model Evalution."
   ]
  },
  {
   "cell_type": "code",
   "execution_count": null,
   "id": "45de4036",
   "metadata": {},
   "outputs": [
    {
     "data": {
      "text/plain": [
       "0.9842900924920523"
      ]
     },
     "execution_count": 108,
     "metadata": {},
     "output_type": "execute_result"
    }
   ],
   "source": [
    "model.score(X,y)"
   ]
  },
  {
   "cell_type": "code",
   "execution_count": null,
   "id": "2807b886",
   "metadata": {},
   "outputs": [],
   "source": [
    "from sklearn.metrics import mean_absolute_error"
   ]
  },
  {
   "cell_type": "code",
   "execution_count": null,
   "id": "b024a0b7",
   "metadata": {
    "scrolled": true
   },
   "outputs": [
    {
     "name": "stdout",
     "output_type": "stream",
     "text": [
      "8.558441885315249\n"
     ]
    }
   ],
   "source": [
    "print(mean_absolute_error(y_test,y_pre))"
   ]
  },
  {
   "cell_type": "markdown",
   "id": "0219eb61",
   "metadata": {},
   "source": [
    "# coeffecients"
   ]
  },
  {
   "cell_type": "code",
   "execution_count": null,
   "id": "b3d46d79",
   "metadata": {},
   "outputs": [
    {
     "data": {
      "text/plain": [
       "array([25.5962591 , 38.78534598,  0.31038593, 61.89682859])"
      ]
     },
     "execution_count": 111,
     "metadata": {},
     "output_type": "execute_result"
    }
   ],
   "source": [
    "model.coef_"
   ]
  },
  {
   "cell_type": "code",
   "execution_count": null,
   "id": "e76f5f23",
   "metadata": {},
   "outputs": [],
   "source": [
    "# y (yearly amount of spent) = 25.5962591 * x1 (Avg.) + 38.78534598 * x2 (App) + 0.31038593 * x3 (Website) + 61.89682859 * x4 (Membership) + b"
   ]
  },
  {
   "cell_type": "markdown",
   "id": "d486b5d2",
   "metadata": {},
   "source": [
    "# Conclusion"
   ]
  },
  {
   "cell_type": "markdown",
   "id": "1a933acb",
   "metadata": {},
   "source": [
    "# we have to spend our money on app and solve the Website Problems"
   ]
  }
 ],
 "metadata": {
  "kernelspec": {
   "display_name": "Python 3.10.4 64-bit",
   "language": "python",
   "name": "python3"
  },
  "language_info": {
   "codemirror_mode": {
    "name": "ipython",
    "version": 3
   },
   "file_extension": ".py",
   "mimetype": "text/x-python",
   "name": "python",
   "nbconvert_exporter": "python",
   "pygments_lexer": "ipython3",
   "version": "3.10.4"
  },
  "vscode": {
   "interpreter": {
    "hash": "a9cff5a362bc38ef45d817ae74b1af54d6a076e3d773891282bce078b815ba34"
   }
  }
 },
 "nbformat": 4,
 "nbformat_minor": 5
}
